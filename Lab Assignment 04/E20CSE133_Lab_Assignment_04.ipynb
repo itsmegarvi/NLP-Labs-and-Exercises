{
 "cells": [
  {
   "cell_type": "code",
   "execution_count": 1,
   "metadata": {},
   "outputs": [],
   "source": [
    "import numpy as np\n",
    "import pandas as pd\n",
    "import string\n",
    "import nltk\n",
    "from nltk.tokenize import word_tokenize\n",
    "from nltk.corpus import stopwords\n",
    "from nltk.stem import WordNetLemmatizer\n",
    "from collections import defaultdict\n",
    "import math\n",
    "from sklearn.feature_extraction.text import TfidfVectorizer\n",
    "\n"
   ]
  },
  {
   "attachments": {},
   "cell_type": "markdown",
   "metadata": {},
   "source": [
    "Q1.\n",
    "Google News: Pre-trained word vectors trained on a Google News dataset of 100 billion words.\n",
    "\n",
    "Wikipedia+Gigaword 5: Pre-trained word vectors trained on a dataset of Wikipedia articles and Gigaword 5 newswire text.\n",
    "\n",
    "Common Crawl: Pre-trained word vectors trained on a dataset of Common Crawl web crawl data.\n",
    "\n",
    "GloVe: Pre-trained word vectors trained on a combination of Common Crawl and Wikipedia data.\n",
    "\n",
    "FastText: Pre-trained word vectors trained on a combination of Common Crawl and Wikipedia data, using subword information."
   ]
  },
  {
   "attachments": {},
   "cell_type": "markdown",
   "metadata": {},
   "source": [
    "Ques 2"
   ]
  },
  {
   "cell_type": "code",
   "execution_count": 2,
   "metadata": {},
   "outputs": [],
   "source": [
    "# import urllib.request\n",
    "\n",
    "# url = 'https://www.dropbox.com/s/8j58pyfzg16yp9e/glove-twitter-50.txt?dl=1'\n",
    "# filename = 'glove-twitter-50.txt'\n",
    "# urllib.request.urlretrieve(url, filename)"
   ]
  },
  {
   "cell_type": "code",
   "execution_count": 3,
   "metadata": {},
   "outputs": [],
   "source": [
    "import requests\n",
    "import gensim.downloader as api\n",
    "\n",
    "# Download the pre-trained word vectors\n",
    "model = api.load(\"glove-twitter-50\")\n"
   ]
  },
  {
   "attachments": {},
   "cell_type": "markdown",
   "metadata": {},
   "source": [
    "Ques 3"
   ]
  },
  {
   "attachments": {},
   "cell_type": "markdown",
   "metadata": {},
   "source": [
    "Let's choose the following ten words:\n",
    "1.Football\n",
    "2.rain\n",
    "3.book\n",
    "4.fiction\n",
    "5.gun\n",
    "6.cars\n",
    "7.chicken\n",
    "8.mobile\n",
    "9.apple\n",
    "10.apartment"
   ]
  },
  {
   "cell_type": "code",
   "execution_count": 4,
   "metadata": {},
   "outputs": [],
   "source": [
    "chosen_words = [\"football\",\"rain\",\"book\",\"fiction\",\"wwe\",\"cars\",\"chicken\",\"mobile\",\"apple\",\"apartment\"]"
   ]
  },
  {
   "attachments": {},
   "cell_type": "markdown",
   "metadata": {},
   "source": [
    "Ques 4"
   ]
  },
  {
   "cell_type": "code",
   "execution_count": 5,
   "metadata": {},
   "outputs": [
    {
     "name": "stdout",
     "output_type": "stream",
     "text": [
      "Most similar words to 'football':\n",
      "\tsoccer: 0.933\n",
      "\tsports: 0.899\n",
      "\tbasketball: 0.897\n",
      "\n",
      "Most similar words to 'rain':\n",
      "\tsnow: 0.894\n",
      "\tsun: 0.890\n",
      "\tcold: 0.863\n",
      "\n",
      "Most similar words to 'book':\n",
      "\tbooks: 0.908\n",
      "\treview: 0.860\n",
      "\tread: 0.856\n",
      "\n",
      "Most similar words to 'fiction':\n",
      "\tthriller: 0.794\n",
      "\tcomics: 0.793\n",
      "\tsci-fi: 0.788\n",
      "\n",
      "Most similar words to 'wwe':\n",
      "\twrestlemania: 0.844\n",
      "\tsmackdown: 0.832\n",
      "\ttna: 0.816\n",
      "\n",
      "Most similar words to 'cars':\n",
      "\ttrucks: 0.874\n",
      "\tbikes: 0.869\n",
      "\tvehicles: 0.828\n",
      "\n",
      "Most similar words to 'chicken':\n",
      "\tfried: 0.936\n",
      "\tcheese: 0.925\n",
      "\tsteak: 0.900\n",
      "\n",
      "Most similar words to 'mobile':\n",
      "\tnetwork: 0.873\n",
      "\tapps: 0.835\n",
      "\tgoogle: 0.834\n",
      "\n",
      "Most similar words to 'apple':\n",
      "\tmicrosoft: 0.867\n",
      "\tgoogle: 0.834\n",
      "\tsamsung: 0.819\n",
      "\n",
      "Most similar words to 'apartment':\n",
      "\tbedroom: 0.866\n",
      "\tbasement: 0.846\n",
      "\tapartments: 0.834\n",
      "\n"
     ]
    }
   ],
   "source": [
    "for word in chosen_words:\n",
    "    print(f\"Most similar words to '{word}':\")\n",
    "    for similar_word, similarity in model.most_similar(word, topn=3):\n",
    "        print(f\"\\t{similar_word}: {similarity:.3f}\")\n",
    "    print()\n"
   ]
  },
  {
   "cell_type": "code",
   "execution_count": 6,
   "metadata": {},
   "outputs": [
    {
     "name": "stderr",
     "output_type": "stream",
     "text": [
      "[nltk_data] Downloading package movie_reviews to\n",
      "[nltk_data]     C:\\Users\\mailm\\AppData\\Roaming\\nltk_data...\n",
      "[nltk_data]   Unzipping corpora\\movie_reviews.zip.\n"
     ]
    }
   ],
   "source": [
    "import random\n",
    "from nltk.corpus import movie_reviews\n",
    "import nltk\n",
    "nltk.download('movie_reviews')\n",
    "\n",
    "\n",
    "documents = [(list(movie_reviews.words(fileid)), category)\n",
    "             for category in movie_reviews.categories()\n",
    "             for fileid in movie_reviews.fileids(category)]\n",
    "\n",
    "random.shuffle(documents)\n",
    "training_documents = documents[:1500]\n",
    "testing_documents = documents[1500:]\n"
   ]
  },
  {
   "cell_type": "code",
   "execution_count": 7,
   "metadata": {},
   "outputs": [
    {
     "name": "stderr",
     "output_type": "stream",
     "text": [
      "[nltk_data] Downloading package stopwords to\n",
      "[nltk_data]     C:\\Users\\mailm\\AppData\\Roaming\\nltk_data...\n",
      "[nltk_data]   Package stopwords is already up-to-date!\n"
     ]
    }
   ],
   "source": [
    "from nltk.corpus import stopwords\n",
    "import nltk\n",
    "nltk.download('stopwords')\n",
    "stop_words = set(stopwords.words('english'))\n",
    "\n",
    "\n",
    "def preprocess_words(words):\n",
    "    words = [word.lower() for word in words if word.isalpha()]\n",
    "    words = [word for word in words if word not in stop_words]\n",
    "    return words\n",
    "\n",
    "\n",
    "training_documents = [(preprocess_words(document), label)\n",
    "                      for document, label in training_documents]\n",
    "testing_documents = [(preprocess_words(document), label)\n",
    "                     for document, label in testing_documents]\n"
   ]
  },
  {
   "cell_type": "code",
   "execution_count": 10,
   "metadata": {},
   "outputs": [],
   "source": [
    "from gensim.models import Word2Vec\n",
    "\n",
    "all_words = [word for document,\n",
    "             label in training_documents for word in document]\n",
    "word2vec_model = Word2Vec([all_words], \n",
    "                          window=5, min_count=1, workers=4)\n"
   ]
  },
  {
   "cell_type": "code",
   "execution_count": 11,
   "metadata": {},
   "outputs": [],
   "source": [
    "import numpy as np\n",
    "\n",
    "\n",
    "def document_features(document):\n",
    "\n",
    "    vectors = []\n",
    "    for word in document:\n",
    "        if word in word2vec_model.wv:\n",
    "            vectors.append(word2vec_model.wv[word])\n",
    "    if len(vectors) == 0:\n",
    "        return np.zeros(100)\n",
    "    else:\n",
    "        return np.mean(vectors, axis=0)\n",
    "\n",
    "\n",
    "training_features = [document_features(document)\n",
    "                     for document, label in training_documents]\n",
    "training_labels = [label for document, label in training_documents]\n",
    "\n",
    "testing_features = [document_features(document)\n",
    "                    for document, label in testing_documents]\n",
    "testing_labels = [label for document, label in testing_documents]\n"
   ]
  },
  {
   "cell_type": "code",
   "execution_count": 12,
   "metadata": {},
   "outputs": [
    {
     "name": "stdout",
     "output_type": "stream",
     "text": [
      "              precision    recall  f1-score   support\n",
      "\n",
      "         neg       0.00      0.00      0.00       254\n",
      "         pos       0.49      1.00      0.66       246\n",
      "\n",
      "    accuracy                           0.49       500\n",
      "   macro avg       0.25      0.50      0.33       500\n",
      "weighted avg       0.24      0.49      0.32       500\n",
      "\n"
     ]
    },
    {
     "name": "stderr",
     "output_type": "stream",
     "text": [
      "d:\\Program Files(D)\\Anaconda\\lib\\site-packages\\sklearn\\metrics\\_classification.py:1318: UndefinedMetricWarning: Precision and F-score are ill-defined and being set to 0.0 in labels with no predicted samples. Use `zero_division` parameter to control this behavior.\n",
      "  _warn_prf(average, modifier, msg_start, len(result))\n",
      "d:\\Program Files(D)\\Anaconda\\lib\\site-packages\\sklearn\\metrics\\_classification.py:1318: UndefinedMetricWarning: Precision and F-score are ill-defined and being set to 0.0 in labels with no predicted samples. Use `zero_division` parameter to control this behavior.\n",
      "  _warn_prf(average, modifier, msg_start, len(result))\n",
      "d:\\Program Files(D)\\Anaconda\\lib\\site-packages\\sklearn\\metrics\\_classification.py:1318: UndefinedMetricWarning: Precision and F-score are ill-defined and being set to 0.0 in labels with no predicted samples. Use `zero_division` parameter to control this behavior.\n",
      "  _warn_prf(average, modifier, msg_start, len(result))\n"
     ]
    }
   ],
   "source": [
    "from sklearn.svm import SVC\n",
    "from sklearn.metrics import classification_report\n",
    "\n",
    "svm_classifier = SVC(kernel='linear')\n",
    "svm_classifier.fit(training_features, training_labels)\n",
    "\n",
    "testing_predictions = svm_classifier.predict(testing_features)\n",
    "\n",
    "print(classification_report(testing_labels, testing_predictions))\n"
   ]
  },
  {
   "cell_type": "code",
   "execution_count": null,
   "metadata": {},
   "outputs": [],
   "source": []
  }
 ],
 "metadata": {
  "kernelspec": {
   "display_name": "base",
   "language": "python",
   "name": "python3"
  },
  "language_info": {
   "codemirror_mode": {
    "name": "ipython",
    "version": 3
   },
   "file_extension": ".py",
   "mimetype": "text/x-python",
   "name": "python",
   "nbconvert_exporter": "python",
   "pygments_lexer": "ipython3",
   "version": "3.9.13"
  },
  "orig_nbformat": 4,
  "vscode": {
   "interpreter": {
    "hash": "49313cae04563e702afcd133ffff9d1ab7daa4f19d85edb0f0628b223bec4e78"
   }
  }
 },
 "nbformat": 4,
 "nbformat_minor": 2
}
